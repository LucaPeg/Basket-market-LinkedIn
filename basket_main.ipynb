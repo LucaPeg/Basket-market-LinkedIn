{
  "nbformat": 4,
  "nbformat_minor": 0,
  "metadata": {
    "colab": {
      "provenance": [],
      "collapsed_sections": [
        "Q8Rm6AOboRSO",
        "F63xDO0EFbl3",
        "1RziYmNMKnw7"
      ],
      "authorship_tag": "ABX9TyNOMssBrpxCl4/jhjSzamF3",
      "include_colab_link": true
    },
    "kernelspec": {
      "name": "python3",
      "display_name": "Python 3"
    },
    "language_info": {
      "name": "python"
    }
  },
  "cells": [
    {
      "cell_type": "markdown",
      "metadata": {
        "id": "view-in-github",
        "colab_type": "text"
      },
      "source": [
        "<a href=\"https://colab.research.google.com/github/LucaPeg/Basket-market-LinkedIn/blob/main/basket_main.ipynb\" target=\"_parent\"><img src=\"https://colab.research.google.com/assets/colab-badge.svg\" alt=\"Open In Colab\"/></a>"
      ]
    },
    {
      "cell_type": "markdown",
      "source": [
        "## Set up enviornment, access Kaggle and download data"
      ],
      "metadata": {
        "id": "0I38ybwfG497"
      }
    },
    {
      "cell_type": "markdown",
      "source": [
        "### Enviornment setup"
      ],
      "metadata": {
        "id": "Z6HX2lM1_Lwx"
      }
    },
    {
      "cell_type": "code",
      "source": [
        "!pip install pyspark\n",
        "import pyspark\n",
        "import os\n",
        "import time\n",
        "import matplotlib.pyplot as plt\n",
        "from itertools import combinations\n",
        "from pyspark.sql import SparkSession\n",
        "spark = SparkSession.builder.appName(\"MarketBasket\").getOrCreate()\n",
        "sc = spark.sparkContext"
      ],
      "metadata": {
        "colab": {
          "base_uri": "https://localhost:8080/"
        },
        "id": "WPdMMaFs4eXM",
        "outputId": "ecf19ec0-f928-430d-81e2-3346c96bd37f"
      },
      "execution_count": 1,
      "outputs": [
        {
          "output_type": "stream",
          "name": "stdout",
          "text": [
            "Collecting pyspark\n",
            "  Downloading pyspark-3.5.2.tar.gz (317.3 MB)\n",
            "\u001b[2K     \u001b[90m━━━━━━━━━━━━━━━━━━━━━━━━━━━━━━━━━━━━━━━━\u001b[0m \u001b[32m317.3/317.3 MB\u001b[0m \u001b[31m3.8 MB/s\u001b[0m eta \u001b[36m0:00:00\u001b[0m\n",
            "\u001b[?25h  Preparing metadata (setup.py) ... \u001b[?25l\u001b[?25hdone\n",
            "Requirement already satisfied: py4j==0.10.9.7 in /usr/local/lib/python3.10/dist-packages (from pyspark) (0.10.9.7)\n",
            "Building wheels for collected packages: pyspark\n",
            "  Building wheel for pyspark (setup.py) ... \u001b[?25l\u001b[?25hdone\n",
            "  Created wheel for pyspark: filename=pyspark-3.5.2-py2.py3-none-any.whl size=317812365 sha256=e69e4f9755a651880bb987bae8826d71bb6abfaa50b41d018826328953459fd7\n",
            "  Stored in directory: /root/.cache/pip/wheels/34/34/bd/03944534c44b677cd5859f248090daa9fb27b3c8f8e5f49574\n",
            "Successfully built pyspark\n",
            "Installing collected packages: pyspark\n",
            "Successfully installed pyspark-3.5.2\n"
          ]
        }
      ]
    },
    {
      "cell_type": "markdown",
      "source": [
        "### Download and import data"
      ],
      "metadata": {
        "id": "6aUSPm5C_Isj"
      }
    },
    {
      "cell_type": "code",
      "execution_count": 2,
      "metadata": {
        "colab": {
          "base_uri": "https://localhost:8080/"
        },
        "id": "4jL5_ZLQEkus",
        "outputId": "30fd7e60-fffb-4c48-b161-e0f5512556a1"
      },
      "outputs": [
        {
          "output_type": "stream",
          "name": "stdout",
          "text": [
            "Dataset URL: https://www.kaggle.com/datasets/asaniczka/1-3m-linkedin-jobs-and-skills-2024\n",
            "License(s): ODC Attribution License (ODC-By)\n",
            "Downloading 1-3m-linkedin-jobs-and-skills-2024.zip to /content\n",
            " 99% 1.87G/1.88G [00:18<00:00, 164MB/s]\n",
            "100% 1.88G/1.88G [00:18<00:00, 110MB/s]\n",
            "Archive:  1-3m-linkedin-jobs-and-skills-2024.zip\n",
            "  inflating: data/job_skills.csv     \n",
            "  inflating: data/job_summary.csv    \n",
            "  inflating: data/linkedin_job_postings.csv  \n"
          ]
        }
      ],
      "source": [
        "# Access Kaggle\n",
        "os.environ['KAGGLE_USERNAME'] = \"xxxxxx\"\n",
        "os.environ['KAGGLE_KEY'] = \"xxxxxx\"\n",
        "\n",
        "# Data download\n",
        "!kaggle datasets download -d asaniczka/1-3m-linkedin-jobs-and-skills-2024\n",
        "!unzip 1-3m-linkedin-jobs-and-skills-2024 -d data\n",
        "# remove unnecessary data\n",
        "!rm /content/data/linkedin_job_postings.csv\n",
        "!rm /content/data/job_summary.csv\n",
        "!rm /content/1-3m-linkedin-jobs-and-skills-2024.zip"
      ]
    },
    {
      "cell_type": "code",
      "source": [
        "# import data\n",
        "df = spark.read.option('header','true').csv('/content/data/job_skills.csv')"
      ],
      "metadata": {
        "id": "_6Cra1MDl_7P"
      },
      "execution_count": 3,
      "outputs": []
    },
    {
      "cell_type": "markdown",
      "source": [
        "### Exploratory Data Analysis (EDA)"
      ],
      "metadata": {
        "id": "Q8Rm6AOboRSO"
      }
    },
    {
      "cell_type": "code",
      "source": [
        "# check the data\n",
        "print(df.head())\n",
        "print(df.printSchema())\n",
        "print(df.show())"
      ],
      "metadata": {
        "colab": {
          "base_uri": "https://localhost:8080/"
        },
        "id": "dGy1oIqtmMzl",
        "outputId": "6ad24164-61ad-4cee-87d6-f06b35d480ef"
      },
      "execution_count": 4,
      "outputs": [
        {
          "output_type": "stream",
          "name": "stdout",
          "text": [
            "Row(job_link='https://www.linkedin.com/jobs/view/housekeeper-i-pt-at-jacksonville-state-university-3802280436', job_skills='Building Custodial Services, Cleaning, Janitorial Services, Materials Handling, Housekeeping, Sanitation, Waste Management, Floor Maintenance, Equipment Maintenance, Safety Protocols, Communication Skills, Attention to Detail, Physical Strength, Experience in Housekeeping')\n",
            "root\n",
            " |-- job_link: string (nullable = true)\n",
            " |-- job_skills: string (nullable = true)\n",
            "\n",
            "None\n",
            "+--------------------+--------------------+\n",
            "|            job_link|          job_skills|\n",
            "+--------------------+--------------------+\n",
            "|https://www.linke...|Building Custodia...|\n",
            "|https://www.linke...|Customer service,...|\n",
            "|https://www.linke...|Applied Behavior ...|\n",
            "|https://www.linke...|Electrical Engine...|\n",
            "|https://www.linke...|Electrical Assemb...|\n",
            "|https://www.linke...|Access Control, V...|\n",
            "|https://www.linke...|Consultation, Sup...|\n",
            "|https://www.linke...|Veterinary Recept...|\n",
            "|https://www.linke...|Optical Inspectio...|\n",
            "|https://www.linke...|HVAC, troubleshoo...|\n",
            "|https://www.linke...|Host/Server Assis...|\n",
            "|https://www.linke...|Apartment mainten...|\n",
            "|https://www.linke...|Fiber Optic Cable...|\n",
            "|https://www.linke...|CT Technologist, ...|\n",
            "|https://ca.linked...|SAP, DRMIS, Data ...|\n",
            "|https://www.linke...|Debt and equity o...|\n",
            "|https://ca.linked...|Biomedical Engine...|\n",
            "|https://www.linke...|Laboratory Techni...|\n",
            "|https://www.linke...|Program Managemen...|\n",
            "|https://www.linke...|Hiring, Training,...|\n",
            "+--------------------+--------------------+\n",
            "only showing top 20 rows\n",
            "\n",
            "None\n"
          ]
        }
      ]
    },
    {
      "cell_type": "code",
      "source": [
        "df.describe()"
      ],
      "metadata": {
        "colab": {
          "base_uri": "https://localhost:8080/"
        },
        "id": "egtCXVA6mXOs",
        "outputId": "1f025f5a-a8f7-40ad-ec97-23ac7435eb04"
      },
      "execution_count": 5,
      "outputs": [
        {
          "output_type": "execute_result",
          "data": {
            "text/plain": [
              "DataFrame[summary: string, job_link: string, job_skills: string]"
            ]
          },
          "metadata": {},
          "execution_count": 5
        }
      ]
    },
    {
      "cell_type": "code",
      "source": [
        "df = df.dropna() # 2007 NAs"
      ],
      "metadata": {
        "id": "Tc-G2H6soYY8"
      },
      "execution_count": 6,
      "outputs": []
    },
    {
      "cell_type": "code",
      "source": [
        "df = df.drop(\"job_link\") # we do not need this column"
      ],
      "metadata": {
        "id": "HCBLnxL-qStB"
      },
      "execution_count": 7,
      "outputs": []
    },
    {
      "cell_type": "code",
      "source": [
        "# Associate the data to a Resilient Distributed Dataset (RDD)\n",
        "df_rdd = df.rdd"
      ],
      "metadata": {
        "id": "3VrbUeyPqsxn"
      },
      "execution_count": 8,
      "outputs": []
    },
    {
      "cell_type": "code",
      "source": [
        "df_rdd.first()"
      ],
      "metadata": {
        "colab": {
          "base_uri": "https://localhost:8080/"
        },
        "id": "q_D2qCdnCMgA",
        "outputId": "4f2842d1-fe90-487c-ce2e-46d3a1b86ee2"
      },
      "execution_count": 9,
      "outputs": [
        {
          "output_type": "execute_result",
          "data": {
            "text/plain": [
              "Row(job_skills='Building Custodial Services, Cleaning, Janitorial Services, Materials Handling, Housekeeping, Sanitation, Waste Management, Floor Maintenance, Equipment Maintenance, Safety Protocols, Communication Skills, Attention to Detail, Physical Strength, Experience in Housekeeping')"
            ]
          },
          "metadata": {},
          "execution_count": 9
        }
      ]
    },
    {
      "cell_type": "code",
      "source": [
        "df_rdd.getNumPartitions() # default is six partitions"
      ],
      "metadata": {
        "colab": {
          "base_uri": "https://localhost:8080/"
        },
        "id": "1hHroYqmCUxZ",
        "outputId": "38a9c2cd-d861-4ca8-a441-09663ad875e2"
      },
      "execution_count": 10,
      "outputs": [
        {
          "output_type": "execute_result",
          "data": {
            "text/plain": [
              "6"
            ]
          },
          "metadata": {},
          "execution_count": 10
        }
      ]
    },
    {
      "cell_type": "code",
      "source": [
        "df_rdd.first() # got to isolate the skills"
      ],
      "metadata": {
        "colab": {
          "base_uri": "https://localhost:8080/"
        },
        "id": "KgsUaoa-EiQ_",
        "outputId": "929636f4-b608-4686-897e-6dc565ad0875"
      },
      "execution_count": 11,
      "outputs": [
        {
          "output_type": "execute_result",
          "data": {
            "text/plain": [
              "Row(job_skills='Building Custodial Services, Cleaning, Janitorial Services, Materials Handling, Housekeeping, Sanitation, Waste Management, Floor Maintenance, Equipment Maintenance, Safety Protocols, Communication Skills, Attention to Detail, Physical Strength, Experience in Housekeeping')"
            ]
          },
          "metadata": {},
          "execution_count": 11
        }
      ]
    },
    {
      "cell_type": "code",
      "source": [
        "skills = df_rdd.map(lambda x: x['job_skills'])\n",
        "skills.first()"
      ],
      "metadata": {
        "colab": {
          "base_uri": "https://localhost:8080/",
          "height": 70
        },
        "id": "MESBihZiFCM7",
        "outputId": "fd049e29-9add-4250-b9e9-b786c4659bde"
      },
      "execution_count": 12,
      "outputs": [
        {
          "output_type": "execute_result",
          "data": {
            "text/plain": [
              "'Building Custodial Services, Cleaning, Janitorial Services, Materials Handling, Housekeeping, Sanitation, Waste Management, Floor Maintenance, Equipment Maintenance, Safety Protocols, Communication Skills, Attention to Detail, Physical Strength, Experience in Housekeeping'"
            ],
            "application/vnd.google.colaboratory.intrinsic+json": {
              "type": "string"
            }
          },
          "metadata": {},
          "execution_count": 12
        }
      ]
    },
    {
      "cell_type": "markdown",
      "source": [
        "### Basket creation"
      ],
      "metadata": {
        "id": "F63xDO0EFbl3"
      }
    },
    {
      "cell_type": "code",
      "source": [
        "skills = skills.map(lambda word: word.lower())\n",
        "skills = skills.map(lambda line: line.split(', '))\n",
        "skills.first()"
      ],
      "metadata": {
        "colab": {
          "base_uri": "https://localhost:8080/"
        },
        "id": "_O4SSjJAFduk",
        "outputId": "5e3372f6-e7d3-4355-d8e2-95587664d99a"
      },
      "execution_count": 13,
      "outputs": [
        {
          "output_type": "execute_result",
          "data": {
            "text/plain": [
              "['building custodial services',\n",
              " 'cleaning',\n",
              " 'janitorial services',\n",
              " 'materials handling',\n",
              " 'housekeeping',\n",
              " 'sanitation',\n",
              " 'waste management',\n",
              " 'floor maintenance',\n",
              " 'equipment maintenance',\n",
              " 'safety protocols',\n",
              " 'communication skills',\n",
              " 'attention to detail',\n",
              " 'physical strength',\n",
              " 'experience in housekeeping']"
            ]
          },
          "metadata": {},
          "execution_count": 13
        }
      ]
    },
    {
      "cell_type": "code",
      "source": [
        "lens = skills.map(lambda x: len(x))\n",
        "print(f\"Min number of skills required is {lens.min()}\") # these take forever (1)\n",
        "print(f\"Max number of skills required is {lens.max()}\") # (463)"
      ],
      "metadata": {
        "colab": {
          "base_uri": "https://localhost:8080/"
        },
        "id": "IpfV3-ZIF19b",
        "outputId": "bfc3c20a-4257-4471-caff-64749190e0e8"
      },
      "execution_count": 14,
      "outputs": [
        {
          "output_type": "stream",
          "name": "stdout",
          "text": [
            "Min number of skills required is 1\n",
            "Max number of skills required is 463\n"
          ]
        }
      ]
    },
    {
      "cell_type": "code",
      "source": [
        "plt.hist(lens.collect(), bins=100, edgecolor='black') # .collect is plottable\n",
        "plt.xlabel(\"Number of skills \")\n",
        "plt.ylabel('Frequency')\n",
        "plt.title('Number of skills for each job')\n",
        "plt.show()"
      ],
      "metadata": {
        "colab": {
          "base_uri": "https://localhost:8080/",
          "height": 472
        },
        "id": "dh634iFPGV4B",
        "outputId": "e6eabb42-f0cc-4a95-d590-46658e4ce484"
      },
      "execution_count": 15,
      "outputs": [
        {
          "output_type": "display_data",
          "data": {
            "text/plain": [
              "<Figure size 640x480 with 1 Axes>"
            ],
            "image/png": "[encoded data removed]"
          },
          "metadata": {}
        }
      ]
    },
    {
      "cell_type": "markdown",
      "source": [
        "### Hashing\n",
        "I transform the skills names in integers by hashing"
      ],
      "metadata": {
        "id": "1RziYmNMKnw7"
      }
    },
    {
      "cell_type": "code",
      "source": [
        "# get all unique skills\n",
        "unique_skills = skills.flatMap(lambda x: x).distinct().collect() # list\n"
      ],
      "metadata": {
        "id": "v1aDyVAYb69U"
      },
      "execution_count": 16,
      "outputs": []
    },
    {
      "cell_type": "code",
      "source": [
        "# get dictionary to link each skill to an integer\n",
        "skill_to_int = {skill: idx for idx, skill in enumerate(unique_skills)}"
      ],
      "metadata": {
        "id": "x92BiJi4cvIq"
      },
      "execution_count": 17,
      "outputs": []
    },
    {
      "cell_type": "code",
      "source": [
        "skills_int = skills.map(\n",
        "    lambda skills_integers: [skill_to_int[skill] for skill in skills_integers])"
      ],
      "metadata": {
        "id": "gwrrKJt8c_fI"
      },
      "execution_count": 18,
      "outputs": []
    },
    {
      "cell_type": "code",
      "source": [
        "baskets = skills_int.map(lambda skill_list: set(skill_list)) # now I have sets"
      ],
      "metadata": {
        "id": "s0B5sloBoLNR"
      },
      "execution_count": 19,
      "outputs": []
    },
    {
      "cell_type": "code",
      "source": [
        "# Check if smth went wrong because I'm paranoid\n",
        "print(set(skills_int.first()) == baskets.first()) #sets are unordered"
      ],
      "metadata": {
        "colab": {
          "base_uri": "https://localhost:8080/"
        },
        "id": "rYO9hf70peVl",
        "outputId": "328ad46f-d1ed-4463-e0e7-4ba6b7232e67"
      },
      "execution_count": 20,
      "outputs": [
        {
          "output_type": "stream",
          "name": "stdout",
          "text": [
            "True\n"
          ]
        }
      ]
    },
    {
      "cell_type": "code",
      "source": [
        "baskets.first()"
      ],
      "metadata": {
        "colab": {
          "base_uri": "https://localhost:8080/"
        },
        "id": "YbpIJj0cprRR",
        "outputId": "67ae15e6-efb4-45d9-d157-92f8f087dd4e"
      },
      "execution_count": 21,
      "outputs": [
        {
          "output_type": "execute_result",
          "data": {
            "text/plain": [
              "{0,\n",
              " 1,\n",
              " 2,\n",
              " 462123,\n",
              " 462124,\n",
              " 923331,\n",
              " 1385287,\n",
              " 1385288,\n",
              " 1847540,\n",
              " 1847541,\n",
              " 1847542,\n",
              " 1847543,\n",
              " 1847544,\n",
              " 2309149}"
            ]
          },
          "metadata": {},
          "execution_count": 21
        }
      ]
    },
    {
      "cell_type": "markdown",
      "source": [
        "## A Priori Algorithm\n",
        "I will implement two stages:\n",
        "* **First pass**\n",
        "** Inspect each basket and takes the count of each\n",
        "skill\n",
        "**   Assess the frequent singletons according to threshold\n",
        "* **Second pass**\n",
        "** Generate pairs of all frequent items\n",
        "** For each pair, count how many times it occures\n",
        "** Select the frequent pairs"
      ],
      "metadata": {
        "id": "5jCgU1BxqOhC"
      }
    },
    {
      "cell_type": "code",
      "source": [
        "def apriori(baskets_collections, threshold_percentage, hash_table):\n",
        "  # define the absolute frequency threshold based on the provided percentage\n",
        "  threshold = baskets_collections.count()*threshold_percentage\n",
        "  # FIRST STAGE ################################################################\n",
        "  # flatmap: each skill in a basket is flatted into a tuple: (skill, 1)\n",
        "  # reducedByKey: all the tuples are aggregated: all the 1s are added (x+y)\n",
        "  # filter: we select only the counts (x[1]) greater than the threshold\n",
        "  l1 = baskets_collections.flatMap(lambda basket: [(skill,1) for skill in basket]) \\\n",
        "                                .reduceByKey(lambda x,y: x+y) \\\n",
        "                                .filter(lambda x: x[1]>threshold)\n",
        "\n",
        "  # get how many singletons are frequent\n",
        "  car_l1 = l1.count() # cardinality of L1 (actual freq singletons)\n",
        "\n",
        "  print(f\"FIRST STAGE:\")\n",
        "  print(f\"With threshold = {threshold_percentage} there are {car_l1} frequent singletons\")\n",
        "\n",
        "  # find the 3 most frequent singletons -> go back to hash table (skill_to_int)\n",
        "  top_3_frequent = l1.takeOrdered(3, key=lambda x: -x[1])\n",
        "\n",
        "  # reverse the skill_to_int dictionary\n",
        "  # I use \"Unknown\" to avoid issues if the skill id is not in the hash table\n",
        "  # However there should not be any issues and it could be avoided\n",
        "  int_to_skill = {v: k for k, v in skill_to_int.items()}\n",
        "  top_3_names = [(int_to_skill.get(skill_id, 'Unknown'), count) \\\n",
        "                 for skill_id, count in top_3_frequent]\n",
        "\n",
        "  # print results\n",
        "  print(f\"Top 3 most frequent singletons:\")\n",
        "  for skill_name, count in top_3_names:\n",
        "      print(f\"\\t{skill_name} : {count}\")\n",
        "\n",
        "\n",
        "  # SECOND STAGE (and all the others) ########################################\n",
        "  freq_itemset_counts = l1\n",
        "  stage = 2 # initialized\n",
        "\n",
        "  while True:\n",
        "      print(f\"\\nSTAGE {stage}: Find frequent itemsets of size {stage}\")\n",
        "\n",
        "      frequent_items = set(freq_itemset_counts.map(lambda x: x[0]).collect())\n",
        "      # within the baskets, keep only the frequent items\n",
        "      filtered_baskets = baskets_collections.map(\n",
        "          lambda basket: [item for item in basket if item in frequent_items]\n",
        "      )\n",
        "\n",
        "      # generate pairs, triple, etc (each combination of frequent items)\n",
        "      candidates = filtered_baskets.flatMap(\n",
        "          lambda basket: list(combinations(sorted(basket), stage))\n",
        "      )\n",
        "      itemset_counts = candidates.map(lambda itemset: (itemset, 1)).reduceByKey(lambda x, y: x + y)\n",
        "\n",
        "      # filtering frequent items\n",
        "      frequent_itemset = itemset_counts.filter(lambda x: x[1] > threshold)\n",
        "      itemset_cardinality = frequent_itemset.count()\n",
        "\n",
        "      if itemset_cardinality == 0:\n",
        "          print(f\"\\tThere are no frequent itemsets of size {stage}\")\n",
        "          break\n",
        "      else:\n",
        "          frequent_itemsets_names = frequent_itemset.map(\n",
        "              lambda x: (tuple(int_to_skill.get(skill_id, 'Unknown') for skill_id in x[0]), x[1])\n",
        "          ) # get is useful to avoid KeyError, although it should happen here\n",
        "          top_3_itemsets = frequent_itemsets_names.takeOrdered(3, key=lambda x: -x[1])\n",
        "\n",
        "          # print results\n",
        "          print(f\"With threshold = {threshold_percentage}, there are {itemset_cardinality} frequent itemsets of size {stage}.\")\n",
        "          print(f\"Top 3 frequent itemsets of size {stage}:\")\n",
        "          for itemset, count in top_3_itemsets:\n",
        "              print(f\"\\t{itemset}: {count}\")\n",
        "\n",
        "          stage += 1 # move to next stage"
      ],
      "metadata": {
        "id": "ZnpbuqyWIsh4"
      },
      "execution_count": 22,
      "outputs": []
    },
    {
      "cell_type": "code",
      "source": [
        "start_time = time.time()\n",
        "apriori(baskets,0.02, skill_to_int)\n",
        "end_time = time.time()\n",
        "time_taken = end_time - start_time\n",
        "print(time_taken)"
      ],
      "metadata": {
        "colab": {
          "base_uri": "https://localhost:8080/"
        },
        "id": "XOR6b2Z_NaY7",
        "outputId": "e8fe2c93-4387-4d9e-988a-939e566aab30"
      },
      "execution_count": 23,
      "outputs": [
        {
          "output_type": "stream",
          "name": "stdout",
          "text": [
            "FIRST STAGE:\n",
            "With threshold = 0.02 there are 80 frequent singletons\n",
            "Top 3 most frequent singletons:\n",
            "\tcommunication : 365844\n",
            "\tcustomer service : 276404\n",
            "\tteamwork : 225953\n",
            "\n",
            "STAGE 2: Find frequent itemsets of size 2\n",
            "With threshold = 0.02, there are 67 frequent itemsets of size 2.\n",
            "Top 3 frequent itemsets of size 2:\n",
            "\t('teamwork', 'communication'): 139150\n",
            "\t('customer service', 'communication'): 138992\n",
            "\t('leadership', 'communication'): 117141\n",
            "\n",
            "STAGE 3: Find frequent itemsets of size 3\n",
            "With threshold = 0.02, there are 25 frequent itemsets of size 3.\n",
            "Top 3 frequent itemsets of size 3:\n",
            "\t('teamwork', 'customer service', 'communication'): 63922\n",
            "\t('teamwork', 'problemsolving', 'communication'): 51228\n",
            "\t('teamwork', 'leadership', 'communication'): 50878\n",
            "\n",
            "STAGE 4: Find frequent itemsets of size 4\n",
            "\tThere are no frequent itemsets of size 4\n",
            "792.0032169818878\n"
          ]
        }
      ]
    }
  ]
}